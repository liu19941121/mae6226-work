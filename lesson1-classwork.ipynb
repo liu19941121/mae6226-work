{
 "cells": [
  {
   "cell_type": "code",
   "execution_count": 1,
   "metadata": {
    "collapsed": true
   },
   "outputs": [],
   "source": [
    "import math\n",
    "import numpy\n",
    "from matplotlib import pyplot"
   ]
  },
  {
   "cell_type": "code",
   "execution_count": 2,
   "metadata": {
    "collapsed": false
   },
   "outputs": [
    {
     "name": "stdout",
     "output_type": "stream",
     "text": [
      "x =  [-3.         -2.87755102 -2.75510204 -2.63265306 -2.51020408 -2.3877551\n",
      " -2.26530612 -2.14285714 -2.02040816 -1.89795918 -1.7755102  -1.65306122\n",
      " -1.53061224 -1.40816327 -1.28571429 -1.16326531 -1.04081633 -0.91836735\n",
      " -0.79591837 -0.67346939 -0.55102041 -0.42857143 -0.30612245 -0.18367347\n",
      " -0.06122449  0.06122449  0.18367347  0.30612245  0.42857143  0.55102041\n",
      "  0.67346939  0.79591837  0.91836735  1.04081633  1.16326531  1.28571429\n",
      "  1.40816327  1.53061224  1.65306122  1.7755102   1.89795918  2.02040816\n",
      "  2.14285714  2.26530612  2.3877551   2.51020408  2.63265306  2.75510204\n",
      "  2.87755102  3.        ]\n",
      "y =  [-2.         -1.91836735 -1.83673469 -1.75510204 -1.67346939 -1.59183673\n",
      " -1.51020408 -1.42857143 -1.34693878 -1.26530612 -1.18367347 -1.10204082\n",
      " -1.02040816 -0.93877551 -0.85714286 -0.7755102  -0.69387755 -0.6122449\n",
      " -0.53061224 -0.44897959 -0.36734694 -0.28571429 -0.20408163 -0.12244898\n",
      " -0.04081633  0.04081633  0.12244898  0.20408163  0.28571429  0.36734694\n",
      "  0.44897959  0.53061224  0.6122449   0.69387755  0.7755102   0.85714286\n",
      "  0.93877551  1.02040816  1.10204082  1.18367347  1.26530612  1.34693878\n",
      "  1.42857143  1.51020408  1.59183673  1.67346939  1.75510204  1.83673469\n",
      "  1.91836735  2.        ]\n"
     ]
    }
   ],
   "source": [
    "N = 50\n",
    "x_start, x_end = -3.0, 3.0\n",
    "y_start, y_end = -2.0, 2.0\n",
    "x = numpy.linspace(x_start, x_end, N)\n",
    "y = numpy.linspace(y_start, y_end, N)\n",
    "\n",
    "print('x = ', x)\n",
    "print('y = ', y)\n",
    "\n",
    "X, Y = numpy.meshgrid(x, y)"
   ]
  },
  {
   "cell_type": "code",
   "execution_count": 3,
   "metadata": {
    "collapsed": false
   },
   "outputs": [
    {
     "data": {
      "text/plain": [
       "<matplotlib.collections.PathCollection at 0x7fae61359710>"
      ]
     },
     "execution_count": 3,
     "metadata": {},
     "output_type": "execute_result"
    },
    {
     "data": {
      "image/png": "[encoded data removed]",
      "text/plain": [
       "<matplotlib.figure.Figure at 0x7fae6042cc18>"
      ]
     },
     "metadata": {},
     "output_type": "display_data"
    }
   ],
   "source": [
    "%matplotlib inline\n",
    "\n",
    "size = 10\n",
    "pyplot.figure(figsize=(size, (y_end-y_start)/(x_end-x_start)*size))\n",
    "pyplot.xlabel('x', fontsize=14)\n",
    "pyplot.ylabel('y', fontsize=14)\n",
    "pyplot.xlim(x_start, x_end)\n",
    "pyplot.ylim(y_start, y_end)\n",
    "pyplot.scatter(X, Y, s=2, color='b', marker='o', linewidth=0)"
   ]
  },
  {
   "cell_type": "code",
   "execution_count": 6,
   "metadata": {
    "collapsed": false
   },
   "outputs": [
    {
     "name": "stdout",
     "output_type": "stream",
     "text": [
      "changes\n"
     ]
    }
   ],
   "source": [
    "print ('changes')"
   ]
  },
  {
   "cell_type": "code",
   "execution_count": null,
   "metadata": {
    "collapsed": true
   },
   "outputs": [],
   "source": []
  }
 ],
 "metadata": {
  "anaconda-cloud": {},
  "kernelspec": {
   "display_name": "Python [conda root]",
   "language": "python",
   "name": "conda-root-py"
  },
  "language_info": {
   "codemirror_mode": {
    "name": "ipython",
    "version": 3
   },
   "file_extension": ".py",
   "mimetype": "text/x-python",
   "name": "python",
   "nbconvert_exporter": "python",
   "pygments_lexer": "ipython3",
   "version": "3.5.2"
  }
 },
 "nbformat": 4,
 "nbformat_minor": 1
}
