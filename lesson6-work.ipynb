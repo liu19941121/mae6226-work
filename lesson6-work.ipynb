{
 "cells": [
  {
   "cell_type": "code",
   "execution_count": 14,
   "metadata": {
    "collapsed": true
   },
   "outputs": [],
   "source": [
    "import math\n",
    "import numpy\n",
    "from matplotlib import pyplot\n",
    "%matplotlib inline"
   ]
  },
  {
   "cell_type": "code",
   "execution_count": 15,
   "metadata": {
    "collapsed": true
   },
   "outputs": [],
   "source": [
    "N = 50\n",
    "x_start, x_end = -2.0, 2.0\n",
    "y_start, y_end = -1.0, 1.0\n",
    "x = numpy.linspace(x_start, x_end, N)\n",
    "y = numpy.linspace(y_start, y_end, N)\n",
    "X, Y = numpy.meshgrid(x, y)"
   ]
  },
  {
   "cell_type": "code",
   "execution_count": 16,
   "metadata": {
    "collapsed": true
   },
   "outputs": [],
   "source": [
    "kappa = 1.0\n",
    "x_doublet, y_doublet = 0.0, 0.0\n",
    "u_inf = 1.0"
   ]
  },
  {
   "cell_type": "code",
   "execution_count": 17,
   "metadata": {
    "collapsed": true
   },
   "outputs": [],
   "source": [
    "def get_velocity_doublet(strength, xd, yd, X, Y):\n",
    "    u = - strength/(2*math.pi)*((X-xd)**2-(Y-yd)**2)/((X-xd)**2+(Y-yd)**2)**2\n",
    "    v = - strength/(2*math.pi)*2*(X-xd)*(Y-yd)/((X-xd)**2+(Y-yd)**2)**2\n",
    "    \n",
    "    return u,v\n",
    "\n",
    "def get_stream_function_doublet(strength, xd, yd, X, Y):\n",
    "    psi = - strength/(2*math.pi)*(Y-yd)/((X-xd)**2+(Y-yd)**2)\n",
    "    \n",
    "    return psi"
   ]
  },
  {
   "cell_type": "code",
   "execution_count": 18,
   "metadata": {
    "collapsed": false
   },
   "outputs": [],
   "source": [
    "u_doublet, v_doublet = get_velocity_doublet(kappa, x_doublet, y_doublet, X, Y)\n",
    "\n",
    "psi_doublet = get_stream_function_doublet(kappa, x_doublet, y_doublet, X, Y)\n",
    "\n",
    "u_freestream = u_inf * numpy.ones((N, N), dtype=float)\n",
    "\n",
    "v_freestream = numpy.zeros((N, N), dtype=float)\n",
    "\n",
    "psi_freestream = u_inf * Y\n",
    "\n",
    "u = u_freestream + u_doublet\n",
    "\n",
    "v = v_freestream + v_doublet\n",
    "\n",
    "psi = psi_freestream + psi_doublet"
   ]
  },
  {
   "cell_type": "code",
   "execution_count": null,
   "metadata": {
    "collapsed": true
   },
   "outputs": [],
   "source": [
    "size = 10\n",
    "\n",
    "pyplot.figure(figsize=(size, (y_end-y_start)/(x_end-x_start)*size))\n",
    "\n",
    "pyplot.xlabel('x', fontsize=16)\n",
    "\n",
    "pyplot.ylabel('y', fontsize=16)\n",
    "\n",
    "pyplot.xlim(x_start, x_end)\n",
    "\n",
    "pyplot.ylim(y_start, y_end)\n",
    "\n",
    "pyplot.streamplot(X, Y, u, v, density=2, linewidth=1, arrowsize=1, arrowstyle='->')\n",
    "\n",
    "pyplot.scatter(x_doublet, y_doublet, color='r', s=80, marker='o')\n",
    "\n",
    "R = math.sqrt(kappa/(2*math.pi*u_inf))\n",
    "\n",
    "circle = pyplot.Circle((0, 0), radius=R, color='r', alpha=0.5)\n",
    "\n",
    "pyplot.gca().add_patch(circle)\n",
    "\n",
    "x_stagn1, y_stagn1 = +math.sqrt(kappa/(2*math.pi*u_inf)), 0\n",
    "\n",
    "x_stagn2, y_stagn2 = -math.sqrt(kappa/(2*math.pi*u_inf)), 0\n",
    "\n",
    "pyplot.scatter([x_stagn1, x_stagn2], [y_stagn1, y_stagn2], color='g', s=80, marker='o');"
   ]
  }
 ],
 "metadata": {
  "kernelspec": {
   "display_name": "Python [conda root]",
   "language": "python",
   "name": "conda-root-py"
  },
  "language_info": {
   "codemirror_mode": {
    "name": "ipython",
    "version": 3
   },
   "file_extension": ".py",
   "mimetype": "text/x-python",
   "name": "python",
   "nbconvert_exporter": "python",
   "pygments_lexer": "ipython3",
   "version": "3.5.2"
  }
 },
 "nbformat": 4,
 "nbformat_minor": 1
}
