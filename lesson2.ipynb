{
 "cells": [
  {
   "cell_type": "code",
   "execution_count": 1,
   "metadata": {
    "collapsed": true
   },
   "outputs": [],
   "source": [
    "import numpy\n",
    "import math\n",
    "from matplotlib import pyplot\n",
    "%matplotlib inline"
   ]
  },
  {
   "cell_type": "code",
   "execution_count": 2,
   "metadata": {
    "collapsed": true
   },
   "outputs": [],
   "source": [
    "N = 200\n",
    "\n",
    "x_start, x_end = -4.0, 4.0\n",
    "y_start, y_end = -2.0, 2.0\n",
    "x = numpy.linspace(x_start, x_end, N)\n",
    "y = numpy.linspace(y_start, y_end, N)\n",
    "X, Y = numpy.meshgrid(x, y)"
   ]
  },
  {
   "cell_type": "code",
   "execution_count": 3,
   "metadata": {
    "collapsed": false
   },
   "outputs": [
    {
     "data": {
      "text/plain": [
       "(200, 200)"
      ]
     },
     "execution_count": 3,
     "metadata": {},
     "output_type": "execute_result"
    }
   ],
   "source": [
    "numpy.shape(X)"
   ]
  },
  {
   "cell_type": "code",
   "execution_count": 4,
   "metadata": {
    "collapsed": true
   },
   "outputs": [],
   "source": [
    "u_inf = 1.0\n",
    "\n",
    "u_freestream = u_inf * numpy.ones((N, N), dtype=float)\n",
    "\n",
    "v_freestream = numpy.zeros((N, N), dtype=float)\n",
    "\n",
    "psi_freestream = u_inf * Y"
   ]
  },
  {
   "cell_type": "code",
   "execution_count": 5,
   "metadata": {
    "collapsed": true
   },
   "outputs": [],
   "source": [
    "u_inf = 1.0\n",
    "\n",
    "u_freestream = u_inf * numpy.ones((N, N), dtype=float)\n",
    "\n",
    "v_freestream = numpy.zeros((N, N), dtype=float)\n",
    "\n",
    "psi_freestream = u_inf * Y"
   ]
  },
  {
   "cell_type": "code",
   "execution_count": 6,
   "metadata": {
    "collapsed": false
   },
   "outputs": [
    {
     "ename": "SyntaxError",
     "evalue": "invalid syntax (<ipython-input-6-5836929ee6d6>, line 1)",
     "output_type": "error",
     "traceback": [
      "\u001b[0;36m  File \u001b[0;32m\"<ipython-input-6-5836929ee6d6>\"\u001b[0;36m, line \u001b[0;32m1\u001b[0m\n\u001b[0;31m    def get_velocity(strength, xs, ys, X, Y)\u001b[0m\n\u001b[0m                                            ^\u001b[0m\n\u001b[0;31mSyntaxError\u001b[0m\u001b[0;31m:\u001b[0m invalid syntax\n"
     ]
    }
   ],
   "source": [
    "def get_velocity(strength, xs, ys, X, Y)\n",
    "\n",
    "u = strength/(2*numpy.pi)*(X-xs)/((X-xs)**2+(Y-ys)**2)\n",
    "\n",
    "v = strength/(2*numpy.pi)*(Y-ys)/((X-xs)**2+(Y-ys)**2)\n",
    "\n",
    "return u, v"
   ]
  },
  {
   "cell_type": "code",
   "execution_count": null,
   "metadata": {
    "collapsed": true
   },
   "outputs": [],
   "source": []
  }
 ],
 "metadata": {
  "anaconda-cloud": {},
  "kernelspec": {
   "display_name": "Python [conda root]",
   "language": "python",
   "name": "conda-root-py"
  },
  "language_info": {
   "codemirror_mode": {
    "name": "ipython",
    "version": 3
   },
   "file_extension": ".py",
   "mimetype": "text/x-python",
   "name": "python",
   "nbconvert_exporter": "python",
   "pygments_lexer": "ipython3",
   "version": "3.5.2"
  }
 },
 "nbformat": 4,
 "nbformat_minor": 1
}
