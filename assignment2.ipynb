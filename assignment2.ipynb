{
 "cells": [
  {
   "cell_type": "markdown",
   "metadata": {},
   "source": [
    "## 1. Complex numbers in Python"
   ]
  },
  {
   "cell_type": "code",
   "execution_count": 208,
   "metadata": {
    "collapsed": true
   },
   "outputs": [],
   "source": [
    "import math\n",
    "import numpy\n",
    "from matplotlib import pyplot\n",
    "%matplotlib inline"
   ]
  },
  {
   "cell_type": "code",
   "execution_count": 209,
   "metadata": {
    "collapsed": false
   },
   "outputs": [
    {
     "name": "stdout",
     "output_type": "stream",
     "text": [
      "z6 = (3+3j)\n",
      "The type of the variable is <class 'complex'>\n"
     ]
    }
   ],
   "source": [
    "a = 3\n",
    "b = 3\n",
    "z6 = a + b*1j\n",
    "print('z6 =', z6)\n",
    "print('The type of the variable is', type(z))"
   ]
  },
  {
   "cell_type": "code",
   "execution_count": 210,
   "metadata": {
    "collapsed": false
   },
   "outputs": [
    {
     "name": "stdout",
     "output_type": "stream",
     "text": [
      "z3 = (46.1322+14.692000000000004j)\n"
     ]
    }
   ],
   "source": [
    "z1 = 2.75 + 3.69j\n",
    "z2 = 8.55 - 6.13j\n",
    "z3 = z1 * z2\n",
    "print('z3 =', z3)"
   ]
  },
  {
   "cell_type": "code",
   "execution_count": 211,
   "metadata": {
    "collapsed": true
   },
   "outputs": [],
   "source": [
    "import numpy"
   ]
  },
  {
   "cell_type": "code",
   "execution_count": 212,
   "metadata": {
    "collapsed": false
   },
   "outputs": [
    {
     "name": "stdout",
     "output_type": "stream",
     "text": [
      "z4 =  (0.799270785858-1.1494199454j)\n"
     ]
    }
   ],
   "source": [
    "z4 = 1.4 * numpy.exp(5.32*1j)\n",
    "\n",
    "print('z4 = ', z4)"
   ]
  },
  {
   "cell_type": "code",
   "execution_count": 213,
   "metadata": {
    "collapsed": false
   },
   "outputs": [
    {
     "name": "stdout",
     "output_type": "stream",
     "text": [
      "z5 =  (-0.4880897698448308-1.0033441577191493j)\n"
     ]
    }
   ],
   "source": [
    "z5 = (7.51-9.15j)/(4.43+9.64j)\n",
    "print('z5 = ', z5)"
   ]
  },
  {
   "cell_type": "markdown",
   "metadata": {},
   "source": [
    "## 2. Shapes created by the Joukowski transformation"
   ]
  },
  {
   "cell_type": "code",
   "execution_count": 214,
   "metadata": {
    "collapsed": false
   },
   "outputs": [],
   "source": [
    "def get_E_shape(R, c, x_c, y_c):\n",
    "    N = 200\n",
    "    theta = numpy.linspace(0, 2*math.pi, N)\n",
    "    z = (R*numpy.cos(theta) + x_c) + (R*numpy.sin(theta) + y_c)*1j\n",
    "    E = z + c**2/z\n",
    "    x_E_shape, y_E_shape = E.real, E.imag\n",
    "    \n",
    "    return x_E_shape, y_E_shape"
   ]
  },
  {
   "cell_type": "code",
   "execution_count": 215,
   "metadata": {
    "collapsed": true
   },
   "outputs": [],
   "source": [
    "def get_Joukowski_transformation(x_z, y_z, c):\n",
    "    z_E = x_z + y_z*1j\n",
    "    z_E = z_E + c**2/z_E\n",
    "    x_E, y_E = z_E.real, z_E.imag\n",
    "    \n",
    "    return x_E, y_E"
   ]
  },
  {
   "cell_type": "code",
   "execution_count": 216,
   "metadata": {
    "collapsed": false
   },
   "outputs": [
    {
     "data": {
      "text/plain": [
       "<matplotlib.collections.PathCollection at 0x7fcf927db630>"
      ]
     },
     "execution_count": 216,
     "metadata": {},
     "output_type": "execute_result"
    },
    {
     "data": {
      "image/png": "[encoded data removed]",
      "text/plain": [
       "<matplotlib.figure.Figure at 0x7fcf92816400>"
      ]
     },
     "metadata": {},
     "output_type": "display_data"
    }
   ],
   "source": [
    "# 2.1\n",
    "c = 1\n",
    "R = 1.5\n",
    "x_c, y_c = 0.0, 0.0\n",
    "x_E_shape, y_E_shape = get_E_shape(R, c, x_c, y_c)\n",
    "size = 10\n",
    "pyplot.figure(figsize=(6, 6))\n",
    "pyplot.grid(True)\n",
    "pyplot.xlabel('Real', fontsize=16)\n",
    "pyplot.ylabel('Imag', fontsize=16)\n",
    "pyplot.xlim(-4.0, 4.0)\n",
    "pyplot.ylim(-4.0, 4.0)\n",
    "pyplot.scatter(x_E_shape, y_E_shape, color='#CD2305', s=5, marker='o')"
   ]
  },
  {
   "cell_type": "code",
   "execution_count": 217,
   "metadata": {
    "collapsed": false
   },
   "outputs": [
    {
     "data": {
      "text/plain": [
       "<matplotlib.collections.PathCollection at 0x7fcf92750908>"
      ]
     },
     "execution_count": 217,
     "metadata": {},
     "output_type": "execute_result"
    },
    {
     "data": {
      "image/png": "[encoded data removed]",
      "text/plain": [
       "<matplotlib.figure.Figure at 0x7fcf92837438>"
      ]
     },
     "metadata": {},
     "output_type": "display_data"
    }
   ],
   "source": [
    "# 2.2\n",
    "c = 1\n",
    "R = 1.2\n",
    "x_c, y_c = c-R, 0.0\n",
    "x_E_shape, y_E_shape = get_xi_shape(R, c, x_c, y_c)\n",
    "size = 10\n",
    "pyplot.figure(figsize=(6, 6))\n",
    "pyplot.grid(True)\n",
    "pyplot.xlabel('Real', fontsize=16)\n",
    "pyplot.ylabel('Imag', fontsize=16)\n",
    "pyplot.xlim(-3.0, 3.0)\n",
    "pyplot.ylim(-3.0, 3.0)\n",
    "pyplot.scatter(x_E_shape, y_E_shape, color='#CD2305', s=5, marker='o')"
   ]
  },
  {
   "cell_type": "code",
   "execution_count": 218,
   "metadata": {
    "collapsed": false
   },
   "outputs": [
    {
     "data": {
      "text/plain": [
       "<matplotlib.collections.PathCollection at 0x7fcf9277a080>"
      ]
     },
     "execution_count": 218,
     "metadata": {},
     "output_type": "execute_result"
    },
    {
     "data": {
      "image/png": "[encoded data removed]",
      "text/plain": [
       "<matplotlib.figure.Figure at 0x7fcf928316d8>"
      ]
     },
     "metadata": {},
     "output_type": "display_data"
    }
   ],
   "source": [
    "# 2.3\n",
    "c = 1\n",
    "deta_x, deta_y = 0.1, 0.1\n",
    "x_c, y_c = -deta_x, deta_y\n",
    "R = ((c-x_c)**2 + y_c**2)**0.5\n",
    "x_E_shape, y_E_shape = get_xi_shape(R, c, x_c, y_c)\n",
    "size = 10\n",
    "pyplot.figure(figsize=(6, 6))\n",
    "pyplot.grid(True)\n",
    "pyplot.xlabel('Real', fontsize=16)\n",
    "pyplot.ylabel('Imag', fontsize=16)\n",
    "pyplot.xlim(-3.0, 3.0)\n",
    "pyplot.ylim(-3.0, 3.0)\n",
    "pyplot.scatter(x_E_shape, y_E_shape, color='#CD2305', s=5, marker='o')"
   ]
  },
  {
   "cell_type": "code",
   "execution_count": 219,
   "metadata": {
    "collapsed": true
   },
   "outputs": [],
   "source": [
    "#2.4\n"
   ]
  },
  {
   "cell_type": "code",
   "execution_count": 220,
   "metadata": {
    "collapsed": true
   },
   "outputs": [],
   "source": [
    "# 3\n",
    "\n"
   ]
  }
 ],
 "metadata": {
  "anaconda-cloud": {},
  "kernelspec": {
   "display_name": "Python [conda root]",
   "language": "python",
   "name": "conda-root-py"
  },
  "language_info": {
   "codemirror_mode": {
    "name": "ipython",
    "version": 3
   },
   "file_extension": ".py",
   "mimetype": "text/x-python",
   "name": "python",
   "nbconvert_exporter": "python",
   "pygments_lexer": "ipython3",
   "version": "3.5.2"
  }
 },
 "nbformat": 4,
 "nbformat_minor": 1
}
